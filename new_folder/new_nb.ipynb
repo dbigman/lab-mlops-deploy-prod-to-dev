{
 "cells": [
  {
   "cell_type": "code",
   "execution_count": null,
   "metadata": {
    "vscode": {
     "languageId": "shellscript"
    }
   },
   "outputs": [],
   "source": [
    "\n",
    "\n",
    "git add hello.txt\n",
    "\n",
    "# Commit the file to the repository\n",
    "git commit -m \"Initial commit with hello.txt\"\n",
    "\n",
    "# Create a new branch\n",
    "git checkout -b new-branch\n",
    "\n",
    "# Make some changes in the new branch\n",
    "echo \"This is a new branch.\" >> hello.txt\n",
    "\n",
    "# Add and commit the changes\n",
    "git add hello.txt\n",
    "git commit -m \"Updated hello.txt in new-branch\"\n",
    "\n",
    "# Switch back to the main branch\n",
    "git checkout main\n",
    "\n",
    "# Merge the new branch into the main branch\n",
    "git merge new-branch\n",
    "\n",
    "# Create a remote repository (this step is usually done on GitHub or another Git hosting service)\n",
    "# For this example, we'll use a local directory as the remote\n",
    "cd ..\n",
    "git init --bare remote-repo.git\n",
    "\n",
    "# Add the remote repository\n",
    "cd sample-repo\n",
    "git remote add origin ../remote-repo.git\n",
    "\n",
    "# Push the changes to the remote repository\n",
    "git push origin main\n",
    "\n",
    "# Make some changes in the remote repository to test git pull\n",
    "cd ../remote-repo.git\n",
    "echo \"Changes made in the remote repository.\" >> hello.txt\n",
    "git add hello.txt\n",
    "git commit -m \"Updated hello.txt in remote repository\"\n",
    "\n",
    "# Pull the changes from the remote repository\n",
    "cd ../sample-repo\n",
    "git pull origin main"
   ]
  },
  {
   "cell_type": "code",
   "execution_count": null,
   "metadata": {
    "vscode": {
     "languageId": "ruby"
    }
   },
   "outputs": [],
   "source": []
  }
 ],
 "metadata": {
  "kernelspec": {
   "display_name": ".venv",
   "language": "python",
   "name": "python3"
  },
  "language_info": {
   "codemirror_mode": {
    "name": "ipython",
    "version": 3
   },
   "file_extension": ".py",
   "mimetype": "text/x-python",
   "name": "python",
   "nbconvert_exporter": "python",
   "pygments_lexer": "ipython3",
   "version": "3.10.10"
  }
 },
 "nbformat": 4,
 "nbformat_minor": 2
}
